{
  "nbformat": 4,
  "nbformat_minor": 0,
  "metadata": {
    "kernelspec": {
      "display_name": "Python 3",
      "language": "python",
      "name": "python3"
    },
    "language_info": {
      "codemirror_mode": {
        "name": "ipython",
        "version": 3
      },
      "file_extension": ".py",
      "mimetype": "text/x-python",
      "name": "python",
      "nbconvert_exporter": "python",
      "pygments_lexer": "ipython3",
      "version": "3.7.0"
    },
    "colab": {
      "name": "Estimativa_de_Frete.ipynb",
      "provenance": [],
      "collapsed_sections": [
        "8vT-_CP22QnB",
        "Ae1a941f2QnL"
      ],
      "toc_visible": true
    }
  },
  "cells": [
    {
      "cell_type": "markdown",
      "metadata": {
        "id": "ti9-k2PP2Ql8",
        "colab_type": "text"
      },
      "source": [
        "<h1 style='color: green; font-size: 36px; font-weight: bold;'>Logística Litro de Luz Nacional - Estimação do custo de frete</h1>"
      ]
    },
    {
      "cell_type": "markdown",
      "metadata": {
        "id": "5n1nws_b2QmA",
        "colab_type": "text"
      },
      "source": [
        "# <font color='red' style='font-size: 30px;'>1.2 Conhecendo o Dataset</font>\n",
        "<hr style='border: 2px solid red;'>"
      ]
    },
    {
      "cell_type": "markdown",
      "metadata": {
        "id": "ZUxOY3_t2QmB",
        "colab_type": "text"
      },
      "source": [
        "## Importando a biblioteca pandas\n",
        "\n",
        "https://pandas.pydata.org/"
      ]
    },
    {
      "cell_type": "code",
      "metadata": {
        "id": "OoWh9H1s2QmC",
        "colab_type": "code",
        "colab": {}
      },
      "source": [
        "import pandas as pd"
      ],
      "execution_count": 0,
      "outputs": []
    },
    {
      "cell_type": "markdown",
      "metadata": {
        "id": "tX3viW0O2QmG",
        "colab_type": "text"
      },
      "source": [
        "## O Dataset e o Projeto\n",
        "<hr>\n",
        "\n",
        "### Descrição:\n",
        "<p style='font-size: 18px; line-height: 2; margin: 10px 50px; text-align: justify; text-indent: 35px;'>A litro de Luz entrega soluções de iluminação utilizando energia solar e materiais de baixo custo como garrafas e canos de PVC, a comunidades sem iluminação elétrica.</p>\n",
        "\n",
        "<p style='font-size: 18px; line-height: 2; margin: 10px 50px; text-align: justify; text-indent: 35px;'>Neste contexto, o objetivo principal do nosso projeto é desenvolver um sistema de estimativa de frete utilizando a metodologia de regressões lineares que é uma das técnicas de machine learning.</p>\n",
        "\n",
        "<p style='font-size: 18px; line-height: 2; margin: 10px 50px; text-align: justify; text-indent: 35px;'>Nosso dataset é uma base de fretes antigos realizados pela litro de luz orginalmente com apenas 16 registros, porém que foi vem sendo constatemente enriquecida com novas cotações reunidas a partir de disparos de e-mails enriquecer a base de dados e melhorar o treinamento do modelo.</p>\n",
        "\n",
        "### Dados usados na equação:\n",
        "<ul style='font-size: 18px; line-height: 2; text-align: justify;'>\n",
        "    <li><b>preco_frete</b> - Valor (R$) do frete cobrado</li>\n",
        "    <li><b>distancia</b> - Distância da Sede da litro de luz até a cidade destino</li>\n",
        "    <li><b>peso</b> - Peso em Kg do total das soluções da ação </li>\n",
        "    <li><b>valor_declarado</b> - Valor total declarado das soluções enviadas</li>\n",
        "</ul>\n",
        "\n",
        "### Dados que deverão ser inputados pelo usuários do sistema:\n",
        "<ul style='font-size: 18px; line-height: 2; text-align: justify;'>\n",
        "\n",
        "   <li><b>lampioes</b> - Quantidade de lampiões da ação</li>\n",
        "    <li><b>postes</b> - Quantidade de postes da ação </li>\n",
        "<li><b>cidade</b> - Nome da cidade onde se localiza a celula que receberá a entrega</li>\n",
        "\n"
      ]
    },
    {
      "cell_type": "markdown",
      "metadata": {
        "id": "Eu-dsqeJ2QmH",
        "colab_type": "text"
      },
      "source": [
        "## Leitura dos dados"
      ]
    },
    {
      "cell_type": "code",
      "metadata": {
        "id": "Sm1twh9h2QmJ",
        "colab_type": "code",
        "colab": {}
      },
      "source": [
        "fretes_passados = pd.read_excel('Database para estimar frete.xlsx')\n",
        "distancias = pd.read_excel('Distancias.xlsx')"
      ],
      "execution_count": 0,
      "outputs": []
    },
    {
      "cell_type": "markdown",
      "metadata": {
        "id": "0i8Dzm9-2QmO",
        "colab_type": "text"
      },
      "source": [
        "## Visualizar os dados"
      ]
    },
    {
      "cell_type": "code",
      "metadata": {
        "id": "k0dneU4F2QmP",
        "colab_type": "code",
        "outputId": "837828dc-cc4a-4935-8954-b26060fecd0b",
        "colab": {
          "base_uri": "https://localhost:8080/",
          "height": 202
        }
      },
      "source": [
        "fretes_passados.head()"
      ],
      "execution_count": 71,
      "outputs": [
        {
          "output_type": "execute_result",
          "data": {
            "text/html": [
              "<div>\n",
              "<style scoped>\n",
              "    .dataframe tbody tr th:only-of-type {\n",
              "        vertical-align: middle;\n",
              "    }\n",
              "\n",
              "    .dataframe tbody tr th {\n",
              "        vertical-align: top;\n",
              "    }\n",
              "\n",
              "    .dataframe thead th {\n",
              "        text-align: right;\n",
              "    }\n",
              "</style>\n",
              "<table border=\"1\" class=\"dataframe\">\n",
              "  <thead>\n",
              "    <tr style=\"text-align: right;\">\n",
              "      <th></th>\n",
              "      <th>Cidade</th>\n",
              "      <th>distancia</th>\n",
              "      <th>valor_declarado</th>\n",
              "      <th>lampioes</th>\n",
              "      <th>postes</th>\n",
              "      <th>peso</th>\n",
              "      <th>preco_frete</th>\n",
              "    </tr>\n",
              "  </thead>\n",
              "  <tbody>\n",
              "    <tr>\n",
              "      <th>0</th>\n",
              "      <td>Florianópolis</td>\n",
              "      <td>700</td>\n",
              "      <td>7055.75</td>\n",
              "      <td>0</td>\n",
              "      <td>25</td>\n",
              "      <td>149.75</td>\n",
              "      <td>697.37</td>\n",
              "    </tr>\n",
              "    <tr>\n",
              "      <th>1</th>\n",
              "      <td>Campina Grande</td>\n",
              "      <td>2630</td>\n",
              "      <td>410.00</td>\n",
              "      <td>1</td>\n",
              "      <td>1</td>\n",
              "      <td>7.61</td>\n",
              "      <td>480.75</td>\n",
              "    </tr>\n",
              "    <tr>\n",
              "      <th>2</th>\n",
              "      <td>Brasília</td>\n",
              "      <td>1015</td>\n",
              "      <td>26825.89</td>\n",
              "      <td>201</td>\n",
              "      <td>6</td>\n",
              "      <td>361.56</td>\n",
              "      <td>1567.37</td>\n",
              "    </tr>\n",
              "    <tr>\n",
              "      <th>3</th>\n",
              "      <td>Rio de Janeiro</td>\n",
              "      <td>435</td>\n",
              "      <td>1601.81</td>\n",
              "      <td>0</td>\n",
              "      <td>7</td>\n",
              "      <td>41.93</td>\n",
              "      <td>171.35</td>\n",
              "    </tr>\n",
              "    <tr>\n",
              "      <th>4</th>\n",
              "      <td>Manaus</td>\n",
              "      <td>3870</td>\n",
              "      <td>7006.61</td>\n",
              "      <td>17</td>\n",
              "      <td>10</td>\n",
              "      <td>87.44</td>\n",
              "      <td>2827.40</td>\n",
              "    </tr>\n",
              "  </tbody>\n",
              "</table>\n",
              "</div>"
            ],
            "text/plain": [
              "           Cidade  distancia  valor_declarado  ...  postes    peso  preco_frete\n",
              "0   Florianópolis        700          7055.75  ...      25  149.75       697.37\n",
              "1  Campina Grande       2630           410.00  ...       1    7.61       480.75\n",
              "2        Brasília       1015         26825.89  ...       6  361.56      1567.37\n",
              "3  Rio de Janeiro        435          1601.81  ...       7   41.93       171.35\n",
              "4          Manaus       3870          7006.61  ...      10   87.44      2827.40\n",
              "\n",
              "[5 rows x 7 columns]"
            ]
          },
          "metadata": {
            "tags": []
          },
          "execution_count": 71
        }
      ]
    },
    {
      "cell_type": "code",
      "metadata": {
        "id": "_6fHn4cY1YpS",
        "colab_type": "code",
        "colab": {
          "base_uri": "https://localhost:8080/",
          "height": 202
        },
        "outputId": "830f92ef-d8a3-4f00-f28b-6e6819f0b6d7"
      },
      "source": [
        "distancias.head()"
      ],
      "execution_count": 72,
      "outputs": [
        {
          "output_type": "execute_result",
          "data": {
            "text/html": [
              "<div>\n",
              "<style scoped>\n",
              "    .dataframe tbody tr th:only-of-type {\n",
              "        vertical-align: middle;\n",
              "    }\n",
              "\n",
              "    .dataframe tbody tr th {\n",
              "        vertical-align: top;\n",
              "    }\n",
              "\n",
              "    .dataframe thead th {\n",
              "        text-align: right;\n",
              "    }\n",
              "</style>\n",
              "<table border=\"1\" class=\"dataframe\">\n",
              "  <thead>\n",
              "    <tr style=\"text-align: right;\">\n",
              "      <th></th>\n",
              "      <th>Cidade</th>\n",
              "      <th>Km</th>\n",
              "    </tr>\n",
              "  </thead>\n",
              "  <tbody>\n",
              "    <tr>\n",
              "      <th>0</th>\n",
              "      <td>Americana</td>\n",
              "      <td>126</td>\n",
              "    </tr>\n",
              "    <tr>\n",
              "      <th>1</th>\n",
              "      <td>Anápolis</td>\n",
              "      <td>980</td>\n",
              "    </tr>\n",
              "    <tr>\n",
              "      <th>2</th>\n",
              "      <td>Aracajú</td>\n",
              "      <td>2133</td>\n",
              "    </tr>\n",
              "    <tr>\n",
              "      <th>3</th>\n",
              "      <td>Araçatuba</td>\n",
              "      <td>518</td>\n",
              "    </tr>\n",
              "    <tr>\n",
              "      <th>4</th>\n",
              "      <td>Araraquara</td>\n",
              "      <td>286</td>\n",
              "    </tr>\n",
              "  </tbody>\n",
              "</table>\n",
              "</div>"
            ],
            "text/plain": [
              "       Cidade    Km\n",
              "0   Americana   126\n",
              "1    Anápolis   980\n",
              "2     Aracajú  2133\n",
              "3   Araçatuba   518\n",
              "4  Araraquara   286"
            ]
          },
          "metadata": {
            "tags": []
          },
          "execution_count": 72
        }
      ]
    },
    {
      "cell_type": "markdown",
      "metadata": {
        "id": "GrJc3Y1I2QmW",
        "colab_type": "text"
      },
      "source": [
        "### Verificando o tamanho do dataset"
      ]
    },
    {
      "cell_type": "code",
      "metadata": {
        "id": "Kmwcw8da2QmX",
        "colab_type": "code",
        "outputId": "69960d11-f7a5-4fe8-fde1-095988b2cd2c",
        "colab": {
          "base_uri": "https://localhost:8080/",
          "height": 35
        }
      },
      "source": [
        "fretes_passados.shape"
      ],
      "execution_count": 5,
      "outputs": [
        {
          "output_type": "execute_result",
          "data": {
            "text/plain": [
              "(16, 7)"
            ]
          },
          "metadata": {
            "tags": []
          },
          "execution_count": 5
        }
      ]
    },
    {
      "cell_type": "code",
      "metadata": {
        "id": "6m1_-2Sl1cFq",
        "colab_type": "code",
        "colab": {
          "base_uri": "https://localhost:8080/",
          "height": 35
        },
        "outputId": "3a4bf700-11fb-46f8-d1af-930f632ab780"
      },
      "source": [
        "distancias.shape"
      ],
      "execution_count": 75,
      "outputs": [
        {
          "output_type": "execute_result",
          "data": {
            "text/plain": [
              "(109, 2)"
            ]
          },
          "metadata": {
            "tags": []
          },
          "execution_count": 75
        }
      ]
    },
    {
      "cell_type": "markdown",
      "metadata": {
        "id": "TvghVHF_2L8P",
        "colab_type": "text"
      },
      "source": [
        "### Montando o dataset"
      ]
    },
    {
      "cell_type": "code",
      "metadata": {
        "id": "_5DUdyDE2VS-",
        "colab_type": "code",
        "colab": {}
      },
      "source": [
        "# fazer o cálculo do peso e valor declarado de acordo com o número de soluções e incluir na coluna."
      ],
      "execution_count": 0,
      "outputs": []
    },
    {
      "cell_type": "markdown",
      "metadata": {
        "id": "85CYYo132Qmc",
        "colab_type": "text"
      },
      "source": [
        "# <font color='red' style='font-size: 30px;'>1.3 Análises Preliminares</font>\n",
        "<hr style='border: 2px solid red;'>"
      ]
    },
    {
      "cell_type": "markdown",
      "metadata": {
        "id": "Kzx2J0vV2Qme",
        "colab_type": "text"
      },
      "source": [
        "## Estatísticas descritivas"
      ]
    },
    {
      "cell_type": "code",
      "metadata": {
        "id": "8dxJKyqY2Qmf",
        "colab_type": "code",
        "outputId": "e770e5e7-9864-4143-902e-706c60564da5",
        "colab": {
          "base_uri": "https://localhost:8080/",
          "height": 294
        }
      },
      "source": [
        "fretes_passados.describe().round(2)"
      ],
      "execution_count": 6,
      "outputs": [
        {
          "output_type": "execute_result",
          "data": {
            "text/html": [
              "<div>\n",
              "<style scoped>\n",
              "    .dataframe tbody tr th:only-of-type {\n",
              "        vertical-align: middle;\n",
              "    }\n",
              "\n",
              "    .dataframe tbody tr th {\n",
              "        vertical-align: top;\n",
              "    }\n",
              "\n",
              "    .dataframe thead th {\n",
              "        text-align: right;\n",
              "    }\n",
              "</style>\n",
              "<table border=\"1\" class=\"dataframe\">\n",
              "  <thead>\n",
              "    <tr style=\"text-align: right;\">\n",
              "      <th></th>\n",
              "      <th>distancia</th>\n",
              "      <th>valor_declarado</th>\n",
              "      <th>lampioes</th>\n",
              "      <th>postes</th>\n",
              "      <th>peso</th>\n",
              "      <th>preco_frete</th>\n",
              "    </tr>\n",
              "  </thead>\n",
              "  <tbody>\n",
              "    <tr>\n",
              "      <th>count</th>\n",
              "      <td>16.00</td>\n",
              "      <td>16.00</td>\n",
              "      <td>16.00</td>\n",
              "      <td>16.00</td>\n",
              "      <td>16.00</td>\n",
              "      <td>16.00</td>\n",
              "    </tr>\n",
              "    <tr>\n",
              "      <th>mean</th>\n",
              "      <td>1732.31</td>\n",
              "      <td>16515.72</td>\n",
              "      <td>73.56</td>\n",
              "      <td>18.62</td>\n",
              "      <td>230.74</td>\n",
              "      <td>1789.14</td>\n",
              "    </tr>\n",
              "    <tr>\n",
              "      <th>std</th>\n",
              "      <td>1448.73</td>\n",
              "      <td>23999.06</td>\n",
              "      <td>159.34</td>\n",
              "      <td>30.15</td>\n",
              "      <td>299.63</td>\n",
              "      <td>2752.48</td>\n",
              "    </tr>\n",
              "    <tr>\n",
              "      <th>min</th>\n",
              "      <td>435.00</td>\n",
              "      <td>329.00</td>\n",
              "      <td>0.00</td>\n",
              "      <td>0.00</td>\n",
              "      <td>4.86</td>\n",
              "      <td>93.85</td>\n",
              "    </tr>\n",
              "    <tr>\n",
              "      <th>25%</th>\n",
              "      <td>435.00</td>\n",
              "      <td>1601.81</td>\n",
              "      <td>0.00</td>\n",
              "      <td>1.00</td>\n",
              "      <td>41.93</td>\n",
              "      <td>414.24</td>\n",
              "    </tr>\n",
              "    <tr>\n",
              "      <th>50%</th>\n",
              "      <td>1015.00</td>\n",
              "      <td>7914.78</td>\n",
              "      <td>1.00</td>\n",
              "      <td>7.00</td>\n",
              "      <td>113.68</td>\n",
              "      <td>698.18</td>\n",
              "    </tr>\n",
              "    <tr>\n",
              "      <th>75%</th>\n",
              "      <td>2660.00</td>\n",
              "      <td>15312.34</td>\n",
              "      <td>73.00</td>\n",
              "      <td>21.25</td>\n",
              "      <td>284.25</td>\n",
              "      <td>1438.86</td>\n",
              "    </tr>\n",
              "    <tr>\n",
              "      <th>max</th>\n",
              "      <td>4657.00</td>\n",
              "      <td>82101.81</td>\n",
              "      <td>620.00</td>\n",
              "      <td>114.00</td>\n",
              "      <td>1004.40</td>\n",
              "      <td>9867.43</td>\n",
              "    </tr>\n",
              "  </tbody>\n",
              "</table>\n",
              "</div>"
            ],
            "text/plain": [
              "       distancia  valor_declarado  lampioes  postes     peso  preco_frete\n",
              "count      16.00            16.00     16.00   16.00    16.00        16.00\n",
              "mean     1732.31         16515.72     73.56   18.62   230.74      1789.14\n",
              "std      1448.73         23999.06    159.34   30.15   299.63      2752.48\n",
              "min       435.00           329.00      0.00    0.00     4.86        93.85\n",
              "25%       435.00          1601.81      0.00    1.00    41.93       414.24\n",
              "50%      1015.00          7914.78      1.00    7.00   113.68       698.18\n",
              "75%      2660.00         15312.34     73.00   21.25   284.25      1438.86\n",
              "max      4657.00         82101.81    620.00  114.00  1004.40      9867.43"
            ]
          },
          "metadata": {
            "tags": []
          },
          "execution_count": 6
        }
      ]
    },
    {
      "cell_type": "markdown",
      "metadata": {
        "id": "20Ggix662Qmi",
        "colab_type": "text"
      },
      "source": [
        "## Matriz de correlação\n",
        "\n",
        "<p style='font-size: 18px; line-height: 2; margin: 10px 50px; text-align: justify;'>O <b>coeficiente de correlação</b> é uma medida de associação linear entre duas variáveis e situa-se entre <b>-1</b> e <b>+1</b> sendo que <b>-1</b> indica associação negativa perfeita e <b>+1</b> indica associação positiva perfeita.</p>"
      ]
    },
    {
      "cell_type": "code",
      "metadata": {
        "id": "vUmbCUAT2Qmj",
        "colab_type": "code",
        "outputId": "6ebcaddc-2c06-4698-d70b-8f32ef4ce6c7",
        "colab": {
          "base_uri": "https://localhost:8080/",
          "height": 233
        }
      },
      "source": [
        "fretes_passados.corr().round(2)"
      ],
      "execution_count": 7,
      "outputs": [
        {
          "output_type": "execute_result",
          "data": {
            "text/html": [
              "<div>\n",
              "<style scoped>\n",
              "    .dataframe tbody tr th:only-of-type {\n",
              "        vertical-align: middle;\n",
              "    }\n",
              "\n",
              "    .dataframe tbody tr th {\n",
              "        vertical-align: top;\n",
              "    }\n",
              "\n",
              "    .dataframe thead th {\n",
              "        text-align: right;\n",
              "    }\n",
              "</style>\n",
              "<table border=\"1\" class=\"dataframe\">\n",
              "  <thead>\n",
              "    <tr style=\"text-align: right;\">\n",
              "      <th></th>\n",
              "      <th>distancia</th>\n",
              "      <th>valor_declarado</th>\n",
              "      <th>lampioes</th>\n",
              "      <th>postes</th>\n",
              "      <th>peso</th>\n",
              "      <th>preco_frete</th>\n",
              "    </tr>\n",
              "  </thead>\n",
              "  <tbody>\n",
              "    <tr>\n",
              "      <th>distancia</th>\n",
              "      <td>1.00</td>\n",
              "      <td>0.38</td>\n",
              "      <td>0.49</td>\n",
              "      <td>-0.08</td>\n",
              "      <td>0.37</td>\n",
              "      <td>0.63</td>\n",
              "    </tr>\n",
              "    <tr>\n",
              "      <th>valor_declarado</th>\n",
              "      <td>0.38</td>\n",
              "      <td>1.00</td>\n",
              "      <td>0.68</td>\n",
              "      <td>0.64</td>\n",
              "      <td>0.97</td>\n",
              "      <td>0.91</td>\n",
              "    </tr>\n",
              "    <tr>\n",
              "      <th>lampioes</th>\n",
              "      <td>0.49</td>\n",
              "      <td>0.68</td>\n",
              "      <td>1.00</td>\n",
              "      <td>-0.10</td>\n",
              "      <td>0.80</td>\n",
              "      <td>0.82</td>\n",
              "    </tr>\n",
              "    <tr>\n",
              "      <th>postes</th>\n",
              "      <td>-0.08</td>\n",
              "      <td>0.64</td>\n",
              "      <td>-0.10</td>\n",
              "      <td>1.00</td>\n",
              "      <td>0.52</td>\n",
              "      <td>0.36</td>\n",
              "    </tr>\n",
              "    <tr>\n",
              "      <th>peso</th>\n",
              "      <td>0.37</td>\n",
              "      <td>0.97</td>\n",
              "      <td>0.80</td>\n",
              "      <td>0.52</td>\n",
              "      <td>1.00</td>\n",
              "      <td>0.93</td>\n",
              "    </tr>\n",
              "    <tr>\n",
              "      <th>preco_frete</th>\n",
              "      <td>0.63</td>\n",
              "      <td>0.91</td>\n",
              "      <td>0.82</td>\n",
              "      <td>0.36</td>\n",
              "      <td>0.93</td>\n",
              "      <td>1.00</td>\n",
              "    </tr>\n",
              "  </tbody>\n",
              "</table>\n",
              "</div>"
            ],
            "text/plain": [
              "                 distancia  valor_declarado  ...  peso  preco_frete\n",
              "distancia             1.00             0.38  ...  0.37         0.63\n",
              "valor_declarado       0.38             1.00  ...  0.97         0.91\n",
              "lampioes              0.49             0.68  ...  0.80         0.82\n",
              "postes               -0.08             0.64  ...  0.52         0.36\n",
              "peso                  0.37             0.97  ...  1.00         0.93\n",
              "preco_frete           0.63             0.91  ...  0.93         1.00\n",
              "\n",
              "[6 rows x 6 columns]"
            ]
          },
          "metadata": {
            "tags": []
          },
          "execution_count": 7
        }
      ]
    },
    {
      "cell_type": "markdown",
      "metadata": {
        "id": "yzxVBRjl2Qmn",
        "colab_type": "text"
      },
      "source": [
        "# <font color='red' style='font-size: 30px;'>2.1 Comportamento da Variável Dependente (Y)</font>\n",
        "<hr style='border: 2px solid red;'>"
      ]
    },
    {
      "cell_type": "markdown",
      "metadata": {
        "id": "CaRWjq7A2Qmn",
        "colab_type": "text"
      },
      "source": [
        "## Importando biblioteca seaborn\n",
        "https://seaborn.pydata.org/\n",
        "<p style='font-size: 18px; line-height: 2; margin: 10px 50px; text-align: justify;'>O Seaborn é uma biblioteca Python de visualização de dados baseada no matplotlib. Ela fornece uma interface de alto nível para desenhar gráficos estatísticos.</p>"
      ]
    },
    {
      "cell_type": "code",
      "metadata": {
        "id": "Z37ZWs4q2Qmp",
        "colab_type": "code",
        "colab": {}
      },
      "source": [
        "import seaborn as sns"
      ],
      "execution_count": 0,
      "outputs": []
    },
    {
      "cell_type": "markdown",
      "metadata": {
        "id": "7hJmOU662Qmt",
        "colab_type": "text"
      },
      "source": [
        "## Configurações de formatação dos gráficos"
      ]
    },
    {
      "cell_type": "code",
      "metadata": {
        "id": "9vh8nidk2Qmu",
        "colab_type": "code",
        "colab": {}
      },
      "source": [
        "# palette -> Accent, Accent_r, Blues, Blues_r, BrBG, BrBG_r, BuGn, BuGn_r, BuPu, BuPu_r, CMRmap, CMRmap_r, Dark2, Dark2_r, GnBu, GnBu_r, Greens, Greens_r, Greys, Greys_r, OrRd, OrRd_r, Oranges, Oranges_r, PRGn, PRGn_r, Paired, Paired_r, Pastel1, Pastel1_r, Pastel2, Pastel2_r, PiYG, PiYG_r, PuBu, PuBuGn, PuBuGn_r, PuBu_r, PuOr, PuOr_r, PuRd, PuRd_r, Purples, Purples_r, RdBu, RdBu_r, RdGy, RdGy_r, RdPu, RdPu_r, RdYlBu, RdYlBu_r, RdYlGn, RdYlGn_r, Reds, Reds_r, Set1, Set1_r, Set2, Set2_r, Set3, Set3_r, Spectral, Spectral_r, Wistia, Wistia_r, YlGn, YlGnBu, YlGnBu_r, YlGn_r, YlOrBr, YlOrBr_r, YlOrRd, YlOrRd_r, afmhot, afmhot_r, autumn, autumn_r, binary, binary_r, bone, bone_r, brg, brg_r, bwr, bwr_r, cividis, cividis_r, cool, cool_r, coolwarm, coolwarm_r, copper, copper_r, cubehelix, cubehelix_r, flag, flag_r, gist_earth, gist_earth_r, gist_gray, gist_gray_r, gist_heat, gist_heat_r, gist_ncar, gist_ncar_r, gist_rainbow, gist_rainbow_r, gist_stern, gist_stern_r, gist_yarg, gist_yarg_r, gnuplot, gnuplot2, gnuplot2_r, gnuplot_r, gray, gray_r, hot, hot_r, hsv, hsv_r, icefire, icefire_r, inferno, inferno_r, jet, jet_r, magma, magma_r, mako, mako_r, nipy_spectral, nipy_spectral_r, ocean, ocean_r, pink, pink_r, plasma, plasma_r, prism, prism_r, rainbow, rainbow_r, rocket, rocket_r, seismic, seismic_r, spring, spring_r, summer, summer_r, tab10, tab10_r, tab20, tab20_r, tab20b, tab20b_r, tab20c, tab20c_r, terrain, terrain_r, viridis, viridis_r, vlag, vlag_r, winter, winter_r\n",
        "sns.set_palette(\"Accent\")\n",
        "\n",
        "# style -> white, dark, whitegrid, darkgrid, ticks\n",
        "sns.set_style(\"darkgrid\")"
      ],
      "execution_count": 0,
      "outputs": []
    },
    {
      "cell_type": "markdown",
      "metadata": {
        "id": "FIA7vAiM2Qmx",
        "colab_type": "text"
      },
      "source": [
        "## Box plot da variável *dependente* (y)"
      ]
    },
    {
      "cell_type": "markdown",
      "metadata": {
        "id": "IP7sBytS2Qmy",
        "colab_type": "text"
      },
      "source": [
        "https://seaborn.pydata.org/generated/seaborn.boxplot.html?highlight=boxplot#seaborn.boxplot"
      ]
    },
    {
      "cell_type": "code",
      "metadata": {
        "id": "316tEVtx2Qmz",
        "colab_type": "code",
        "outputId": "6a156484-0b34-4195-e6bc-79edb30c33f5",
        "colab": {
          "base_uri": "https://localhost:8080/",
          "height": 397
        }
      },
      "source": [
        "ax = sns.boxplot(data=fretes_passados['preco_frete'], orient='h', width=0.3)\n",
        "ax.figure.set_size_inches(20, 5)\n",
        "ax.set_title('Preço dos Fretes Passados', fontsize=20)\n",
        "ax.set_xlabel('Reais', fontsize=16)\n",
        "ax"
      ],
      "execution_count": 10,
      "outputs": [
        {
          "output_type": "execute_result",
          "data": {
            "text/plain": [
              "<matplotlib.axes._subplots.AxesSubplot at 0x7f4302c58d68>"
            ]
          },
          "metadata": {
            "tags": []
          },
          "execution_count": 10
        },
        {
          "output_type": "display_data",
          "data": {
            "image/png": "[encoded data removed]",
            "text/plain": [
              "<Figure size 1440x360 with 1 Axes>"
            ]
          },
          "metadata": {
            "tags": []
          }
        }
      ]
    },
    {
      "cell_type": "markdown",
      "metadata": {
        "id": "cNuF3vgQ2Qm2",
        "colab_type": "text"
      },
      "source": [
        "# <font color='red' style='font-size: 30px;'>2.2 Distribuição de Frequências</font>\n",
        "<hr style='border: 2px solid red;'>"
      ]
    },
    {
      "cell_type": "markdown",
      "metadata": {
        "id": "HfnNyeXJ2Qm3",
        "colab_type": "text"
      },
      "source": [
        "## Distribuição de frequências da variável *dependente* (y)"
      ]
    },
    {
      "cell_type": "code",
      "metadata": {
        "id": "ic66ddff2Qm6",
        "colab_type": "code",
        "outputId": "d7e31f15-a762-42df-b29a-d3196ae0093d",
        "colab": {
          "base_uri": "https://localhost:8080/",
          "height": 453
        }
      },
      "source": [
        "ax = sns.distplot(fretes_passados['preco_frete'])\n",
        "ax.figure.set_size_inches(20, 6)\n",
        "ax.set_title('Distribuição de Frequências', fontsize=20)\n",
        "ax.set_xlabel('Valores do Fretes  (R$)', fontsize=16)\n",
        "ax"
      ],
      "execution_count": 11,
      "outputs": [
        {
          "output_type": "execute_result",
          "data": {
            "text/plain": [
              "<matplotlib.axes._subplots.AxesSubplot at 0x7f430223bb38>"
            ]
          },
          "metadata": {
            "tags": []
          },
          "execution_count": 11
        },
        {
          "output_type": "display_data",
          "data": {
            "image/png": "[encoded data removed]",
            "text/plain": [
              "<Figure size 1440x432 with 1 Axes>"
            ]
          },
          "metadata": {
            "tags": []
          }
        }
      ]
    },
    {
      "cell_type": "markdown",
      "metadata": {
        "id": "PuQluzNh2QnA",
        "colab_type": "text"
      },
      "source": [
        "# <font color='red' style='font-size: 30px;'>2.3 Dispersão Entre as Variáveis</font>\n",
        "<hr style='border: 2px solid red;'>"
      ]
    },
    {
      "cell_type": "markdown",
      "metadata": {
        "id": "8vT-_CP22QnB",
        "colab_type": "text"
      },
      "source": [
        "## Gráficos de dispersão entre as variáveis do dataset"
      ]
    },
    {
      "cell_type": "markdown",
      "metadata": {
        "id": "oYOCngAo2QnC",
        "colab_type": "text"
      },
      "source": [
        "## seaborn.pairplot\n",
        "\n",
        "https://seaborn.pydata.org/generated/seaborn.pairplot.html?highlight=pairplot#seaborn.pairplot\n",
        "\n",
        "<p style='font-size: 18px; line-height: 2; margin: 10px 50px; text-align: justify;'>Plota o relacionamento entre pares de variáveis em um dataset.</p>"
      ]
    },
    {
      "cell_type": "code",
      "metadata": {
        "id": "lZY_FVJT2QnD",
        "colab_type": "code",
        "outputId": "b60f902f-901d-4d68-aef2-ffbdb46cf0e9",
        "colab": {
          "base_uri": "https://localhost:8080/",
          "height": 447
        }
      },
      "source": [
        "ax = sns.pairplot(fretes_passados, y_vars='preco_frete', x_vars=['distancia', 'valor_declarado', 'peso'], height=5)\n",
        "ax.fig.suptitle('Dispersão entre as Variáveis', fontsize=20, y=1.05)\n",
        "ax"
      ],
      "execution_count": 14,
      "outputs": [
        {
          "output_type": "execute_result",
          "data": {
            "text/plain": [
              "<seaborn.axisgrid.PairGrid at 0x7f42ff6f0be0>"
            ]
          },
          "metadata": {
            "tags": []
          },
          "execution_count": 14
        },
        {
          "output_type": "display_data",
          "data": {
            "image/png": "[encoded data removed]",
            "text/plain": [
              "<Figure size 1080x360 with 3 Axes>"
            ]
          },
          "metadata": {
            "tags": []
          }
        }
      ]
    },
    {
      "cell_type": "code",
      "metadata": {
        "id": "8cZoKLWV2QnG",
        "colab_type": "code",
        "outputId": "8119be8d-36b8-4b9f-d61a-26cbc34b63c2",
        "colab": {
          "base_uri": "https://localhost:8080/",
          "height": 447
        }
      },
      "source": [
        "ax = sns.pairplot(fretes_passados, y_vars='preco_frete', x_vars=['distancia', 'valor_declarado', 'peso'], kind='reg', height=5)\n",
        "ax.fig.suptitle('Dispersão entre as Variáveis', fontsize=20, y=1.05)\n",
        "ax"
      ],
      "execution_count": 21,
      "outputs": [
        {
          "output_type": "execute_result",
          "data": {
            "text/plain": [
              "<seaborn.axisgrid.PairGrid at 0x7f42ff55b470>"
            ]
          },
          "metadata": {
            "tags": []
          },
          "execution_count": 21
        },
        {
          "output_type": "display_data",
          "data": {
            "image/png": "[encoded data removed]",
            "text/plain": [
              "<Figure size 1080x360 with 3 Axes>"
            ]
          },
          "metadata": {
            "tags": []
          }
        }
      ]
    },
    {
      "cell_type": "markdown",
      "metadata": {
        "id": "Dgb7IiS32QnK",
        "colab_type": "text"
      },
      "source": [
        "# <font color='red' style='font-size: 30px;'>3.1 Transformando os Dados</font>\n",
        "<hr style='border: 2px solid red;'>"
      ]
    },
    {
      "cell_type": "markdown",
      "metadata": {
        "id": "Ae1a941f2QnL",
        "colab_type": "text"
      },
      "source": [
        "## Distribuição Normal\n",
        "<hr>\n",
        "\n",
        "### Por quê? \n",
        "<p style='font-size: 18px; line-height: 2; margin: 10px 50px; text-align: justify;'>Testes paramétricos assumem que os dados amostrais foram coletados de uma população com distribuição de probabilidade conhecida. Boa parte dos testes estatísticos assumem que os dados seguem uma distribuição normal (t de Student, intervalos de confiança etc.).</p>\n",
        "\n",
        "\n",
        "\n",
        "<p style='font-size: 18px; line-height: 2; margin: 10px 50px; text-align: justify;'></p>\n",
        "<p style='font-size: 18px; line-height: 2; margin: 10px 50px; text-align: justify;'></p>\n",
        "<p style='font-size: 18px; line-height: 2; margin: 10px 50px; text-align: justify;'></p>\n",
        "<p style='font-size: 18px; line-height: 2; margin: 10px 50px; text-align: justify;'></p>\n",
        "<p style='font-size: 18px; line-height: 2; margin: 10px 50px; text-align: justify;'></p>\n",
        "<p style='font-size: 18px; line-height: 2; margin: 10px 50px; text-align: justify;'></p>\n",
        "<p style='font-size: 18px; line-height: 2; margin: 10px 50px; text-align: justify;'></p>\n",
        "<p style='font-size: 18px; line-height: 2; margin: 10px 50px; text-align: justify;'></p>"
      ]
    },
    {
      "cell_type": "markdown",
      "metadata": {
        "id": "mT9Feb-P2QnN",
        "colab_type": "text"
      },
      "source": [
        "## Importando biblioteca numpy"
      ]
    },
    {
      "cell_type": "code",
      "metadata": {
        "id": "ZJpt_86l2QnO",
        "colab_type": "code",
        "colab": {}
      },
      "source": [
        "import numpy as np"
      ],
      "execution_count": 0,
      "outputs": []
    },
    {
      "cell_type": "markdown",
      "metadata": {
        "id": "y7nsHysy2QnS",
        "colab_type": "text"
      },
      "source": [
        "## Aplicando a transformação logarítmica aos dados do *dataset*\n",
        "\n",
        "https://docs.scipy.org/doc/numpy-1.15.0/reference/generated/numpy.log.html"
      ]
    },
    {
      "cell_type": "code",
      "metadata": {
        "id": "DNuniYWJ2QnS",
        "colab_type": "code",
        "outputId": "1e4c67ac-70c2-4d72-ae79-c973d458a019",
        "colab": {
          "base_uri": "https://localhost:8080/",
          "height": 35
        }
      },
      "source": [
        "np.log(1)"
      ],
      "execution_count": 16,
      "outputs": [
        {
          "output_type": "execute_result",
          "data": {
            "text/plain": [
              "0.0"
            ]
          },
          "metadata": {
            "tags": []
          },
          "execution_count": 16
        }
      ]
    },
    {
      "cell_type": "code",
      "metadata": {
        "id": "bumPWvyo2QnW",
        "colab_type": "code",
        "colab": {}
      },
      "source": [
        "fretes_passados['log_preco_frete'] = np.log(fretes_passados['preco_frete'])\n",
        "fretes_passados['log_distancia'] = np.log(fretes_passados['distancia'])\n",
        "fretes_passados['log_valor_declarado'] = np.log(fretes_passados['valor_declarado'])\n",
        "fretes_passados['log_peso'] = np.log(fretes_passados['peso'])"
      ],
      "execution_count": 0,
      "outputs": []
    },
    {
      "cell_type": "code",
      "metadata": {
        "id": "x9muzrXO2QnZ",
        "colab_type": "code",
        "outputId": "314b2df7-1b2a-427a-e0ea-aa2027b23d24",
        "colab": {
          "base_uri": "https://localhost:8080/",
          "height": 257
        }
      },
      "source": [
        "fretes_passados.head()"
      ],
      "execution_count": 18,
      "outputs": [
        {
          "output_type": "execute_result",
          "data": {
            "text/html": [
              "<div>\n",
              "<style scoped>\n",
              "    .dataframe tbody tr th:only-of-type {\n",
              "        vertical-align: middle;\n",
              "    }\n",
              "\n",
              "    .dataframe tbody tr th {\n",
              "        vertical-align: top;\n",
              "    }\n",
              "\n",
              "    .dataframe thead th {\n",
              "        text-align: right;\n",
              "    }\n",
              "</style>\n",
              "<table border=\"1\" class=\"dataframe\">\n",
              "  <thead>\n",
              "    <tr style=\"text-align: right;\">\n",
              "      <th></th>\n",
              "      <th>Cidade</th>\n",
              "      <th>distancia</th>\n",
              "      <th>valor_declarado</th>\n",
              "      <th>lampioes</th>\n",
              "      <th>postes</th>\n",
              "      <th>peso</th>\n",
              "      <th>preco_frete</th>\n",
              "      <th>log_preco_frete</th>\n",
              "      <th>log_distancia</th>\n",
              "      <th>log_valor_declarado</th>\n",
              "      <th>log_lampioes</th>\n",
              "    </tr>\n",
              "  </thead>\n",
              "  <tbody>\n",
              "    <tr>\n",
              "      <th>0</th>\n",
              "      <td>Florianópolis</td>\n",
              "      <td>700</td>\n",
              "      <td>7055.75</td>\n",
              "      <td>0</td>\n",
              "      <td>25</td>\n",
              "      <td>149.75</td>\n",
              "      <td>697.37</td>\n",
              "      <td>6.547316</td>\n",
              "      <td>6.551080</td>\n",
              "      <td>8.861598</td>\n",
              "      <td>5.008967</td>\n",
              "    </tr>\n",
              "    <tr>\n",
              "      <th>1</th>\n",
              "      <td>Campina Grande</td>\n",
              "      <td>2630</td>\n",
              "      <td>410.00</td>\n",
              "      <td>1</td>\n",
              "      <td>1</td>\n",
              "      <td>7.61</td>\n",
              "      <td>480.75</td>\n",
              "      <td>6.175347</td>\n",
              "      <td>7.874739</td>\n",
              "      <td>6.016157</td>\n",
              "      <td>2.029463</td>\n",
              "    </tr>\n",
              "    <tr>\n",
              "      <th>2</th>\n",
              "      <td>Brasília</td>\n",
              "      <td>1015</td>\n",
              "      <td>26825.89</td>\n",
              "      <td>201</td>\n",
              "      <td>6</td>\n",
              "      <td>361.56</td>\n",
              "      <td>1567.37</td>\n",
              "      <td>7.357154</td>\n",
              "      <td>6.922644</td>\n",
              "      <td>10.197123</td>\n",
              "      <td>5.890428</td>\n",
              "    </tr>\n",
              "    <tr>\n",
              "      <th>3</th>\n",
              "      <td>Rio de Janeiro</td>\n",
              "      <td>435</td>\n",
              "      <td>1601.81</td>\n",
              "      <td>0</td>\n",
              "      <td>7</td>\n",
              "      <td>41.93</td>\n",
              "      <td>171.35</td>\n",
              "      <td>5.143708</td>\n",
              "      <td>6.075346</td>\n",
              "      <td>7.378890</td>\n",
              "      <td>3.736002</td>\n",
              "    </tr>\n",
              "    <tr>\n",
              "      <th>4</th>\n",
              "      <td>Manaus</td>\n",
              "      <td>3870</td>\n",
              "      <td>7006.61</td>\n",
              "      <td>17</td>\n",
              "      <td>10</td>\n",
              "      <td>87.44</td>\n",
              "      <td>2827.40</td>\n",
              "      <td>7.947113</td>\n",
              "      <td>8.261010</td>\n",
              "      <td>8.854609</td>\n",
              "      <td>4.470953</td>\n",
              "    </tr>\n",
              "  </tbody>\n",
              "</table>\n",
              "</div>"
            ],
            "text/plain": [
              "           Cidade  distancia  ...  log_valor_declarado  log_lampioes\n",
              "0   Florianópolis        700  ...             8.861598      5.008967\n",
              "1  Campina Grande       2630  ...             6.016157      2.029463\n",
              "2        Brasília       1015  ...            10.197123      5.890428\n",
              "3  Rio de Janeiro        435  ...             7.378890      3.736002\n",
              "4          Manaus       3870  ...             8.854609      4.470953\n",
              "\n",
              "[5 rows x 11 columns]"
            ]
          },
          "metadata": {
            "tags": []
          },
          "execution_count": 18
        }
      ]
    },
    {
      "cell_type": "markdown",
      "metadata": {
        "id": "nmZR7eKu2Qnc",
        "colab_type": "text"
      },
      "source": [
        "## Distribuição de frequências da variável *dependente transformada* (y)"
      ]
    },
    {
      "cell_type": "code",
      "metadata": {
        "id": "EKRt0p7b2Qnc",
        "colab_type": "code",
        "outputId": "988e4158-6be0-4e32-a816-f57371be2ea8",
        "colab": {
          "base_uri": "https://localhost:8080/",
          "height": 433
        }
      },
      "source": [
        "ax = sns.distplot(fretes_passados['log_preco_frete'])\n",
        "ax.figure.set_size_inches(12, 6)\n",
        "ax.set_title('Distribuição de Frequências', fontsize=20)\n",
        "ax.set_xlabel('log do Preço dos Fretes', fontsize=16)\n",
        "ax"
      ],
      "execution_count": 25,
      "outputs": [
        {
          "output_type": "execute_result",
          "data": {
            "text/plain": [
              "<matplotlib.axes._subplots.AxesSubplot at 0x7f42ff45e278>"
            ]
          },
          "metadata": {
            "tags": []
          },
          "execution_count": 25
        },
        {
          "output_type": "display_data",
          "data": {
            "image/png": "[encoded data removed]",
            "text/plain": [
              "<Figure size 864x432 with 1 Axes>"
            ]
          },
          "metadata": {
            "tags": []
          }
        }
      ]
    },
    {
      "cell_type": "markdown",
      "metadata": {
        "id": "uIl3sJT-2Qng",
        "colab_type": "text"
      },
      "source": [
        "# <font color='red' style='font-size: 30px;'>3.2 Verificando Relação Linear</font>\n",
        "<hr style='border: 2px solid red;'>"
      ]
    },
    {
      "cell_type": "markdown",
      "metadata": {
        "id": "xTfbZl212Qnh",
        "colab_type": "text"
      },
      "source": [
        "## Gráficos de dispersão entre as variáveis transformadas do dataset"
      ]
    },
    {
      "cell_type": "code",
      "metadata": {
        "id": "xYTlQQHD2Qni",
        "colab_type": "code",
        "outputId": "cbd42986-88d3-4703-ce70-c5fbec40aae5",
        "colab": {
          "base_uri": "https://localhost:8080/",
          "height": 447
        }
      },
      "source": [
        "ax = sns.pairplot(fretes_passados, y_vars='log_preco_frete', x_vars=['log_distancia', 'log_valor_declarado', 'log_peso'], height=5)\n",
        "ax.fig.suptitle('Dispersão entre as Variáveis Transformadas', fontsize=20, y=1.05)\n",
        "ax"
      ],
      "execution_count": 28,
      "outputs": [
        {
          "output_type": "execute_result",
          "data": {
            "text/plain": [
              "<seaborn.axisgrid.PairGrid at 0x7f42fdb24198>"
            ]
          },
          "metadata": {
            "tags": []
          },
          "execution_count": 28
        },
        {
          "output_type": "display_data",
          "data": {
            "image/png": "[encoded data removed]",
            "text/plain": [
              "<Figure size 1080x360 with 3 Axes>"
            ]
          },
          "metadata": {
            "tags": []
          }
        }
      ]
    },
    {
      "cell_type": "markdown",
      "metadata": {
        "id": "xCd-nIql2Qnl",
        "colab_type": "text"
      },
      "source": [
        "# <font color='red' style='font-size: 30px;'>4.1 Criando os *Datasets* de Treino e Teste</font>\n",
        "<hr style='border: 2px solid red;'>"
      ]
    },
    {
      "cell_type": "markdown",
      "metadata": {
        "id": "sK7sv7_72Qnl",
        "colab_type": "text"
      },
      "source": [
        "## Importando o *train_test_split* da biblioteca *scikit-learn*\n",
        "\n",
        "https://scikit-learn.org/stable/modules/generated/sklearn.model_selection.train_test_split.html"
      ]
    },
    {
      "cell_type": "code",
      "metadata": {
        "id": "ix1E7fY52Qnm",
        "colab_type": "code",
        "colab": {}
      },
      "source": [
        "from sklearn.model_selection import train_test_split"
      ],
      "execution_count": 0,
      "outputs": []
    },
    {
      "cell_type": "markdown",
      "metadata": {
        "id": "Vje0xzJE2Qnp",
        "colab_type": "text"
      },
      "source": [
        "## Criando uma Series (pandas) para armazenar o Preço dos Imóveis (y)"
      ]
    },
    {
      "cell_type": "code",
      "metadata": {
        "id": "Jh7ar0Sz2Qnq",
        "colab_type": "code",
        "colab": {}
      },
      "source": [
        "preco_frete_y = fretes_passados['log_preco_frete']"
      ],
      "execution_count": 0,
      "outputs": []
    },
    {
      "cell_type": "markdown",
      "metadata": {
        "id": "kcB1V3WO2Qnt",
        "colab_type": "text"
      },
      "source": [
        "## Criando um DataFrame (pandas) para armazenar as variáveis explicativas (X)"
      ]
    },
    {
      "cell_type": "code",
      "metadata": {
        "id": "3cV7EqQS2Qnv",
        "colab_type": "code",
        "colab": {}
      },
      "source": [
        "estimadores_frete_x = fretes_passados[['log_distancia', 'log_valor_declarado', 'log_peso']]"
      ],
      "execution_count": 0,
      "outputs": []
    },
    {
      "cell_type": "markdown",
      "metadata": {
        "id": "2PRpNoTu2Qn0",
        "colab_type": "text"
      },
      "source": [
        "## Criando os datasets de treino e de teste"
      ]
    },
    {
      "cell_type": "code",
      "metadata": {
        "id": "xY5gZyx62Qn1",
        "colab_type": "code",
        "colab": {}
      },
      "source": [
        "X_train, X_test, y_train, y_test = train_test_split(estimadores_frete_x, preco_frete_y, test_size=0.2, random_state=7)"
      ],
      "execution_count": 0,
      "outputs": []
    },
    {
      "cell_type": "markdown",
      "metadata": {
        "id": "7V9N91zi2Qn4",
        "colab_type": "text"
      },
      "source": [
        "# Regressão Linear\n",
        "<hr>\n",
        "\n",
        "<p style='font-size: 20px; line-height: 2; margin: 10px 50px; text-align: justify;'>A análise de regressão diz respeito ao estudo da dependência de uma variável (a variável <b>dependente</b>) em relação a uma ou mais variáveis, as variáveis explanatórias, visando estimar e/ou prever o valor médio da primeira em termos dos valores conhecidos ou fixados das segundas.</p>\n",
        "\n",
        "\n",
        "## scikit-learn (https://scikit-learn.org/stable/)\n",
        "\n",
        "<p style='font-size: 20px; line-height: 2; margin: 10px 50px; text-align: justify;'>O *scikit-learn* é um módulo Python especializado em soluções para *machine learning*.</p>\n",
        "\n"
      ]
    },
    {
      "cell_type": "markdown",
      "metadata": {
        "id": "MtX4sD_F2Qn6",
        "colab_type": "text"
      },
      "source": [
        "## Importando a biblioteca statsmodels\n",
        "\n",
        "https://www.statsmodels.org/stable/index.html"
      ]
    },
    {
      "cell_type": "code",
      "metadata": {
        "id": "dlPMRRNn2Qn7",
        "colab_type": "code",
        "colab": {}
      },
      "source": [
        "import statsmodels.api as sm"
      ],
      "execution_count": 0,
      "outputs": []
    },
    {
      "cell_type": "markdown",
      "metadata": {
        "id": "tkKxRCP-2Qn_",
        "colab_type": "text"
      },
      "source": [
        "## Estimando o modelo com statsmodels"
      ]
    },
    {
      "cell_type": "code",
      "metadata": {
        "id": "_rtAyG-o2Qn_",
        "colab_type": "code",
        "outputId": "8143b26d-7e0c-44e0-b1ae-e0f95bb2d503",
        "colab": {
          "base_uri": "https://localhost:8080/",
          "height": 72
        }
      },
      "source": [
        "X_train_com_constante = sm.add_constant(X_train)"
      ],
      "execution_count": 33,
      "outputs": [
        {
          "output_type": "stream",
          "text": [
            "/usr/local/lib/python3.6/dist-packages/numpy/core/fromnumeric.py:2495: FutureWarning: Method .ptp is deprecated and will be removed in a future version. Use numpy.ptp instead.\n",
            "  return ptp(axis=axis, out=out, **kwargs)\n"
          ],
          "name": "stderr"
        }
      ]
    },
    {
      "cell_type": "code",
      "metadata": {
        "scrolled": true,
        "id": "z6Wj9x612QoD",
        "colab_type": "code",
        "outputId": "59b0e5a8-8f35-4b5d-ab28-a5965f712334",
        "colab": {
          "base_uri": "https://localhost:8080/",
          "height": 417
        }
      },
      "source": [
        "X_train_com_constante"
      ],
      "execution_count": 34,
      "outputs": [
        {
          "output_type": "execute_result",
          "data": {
            "text/html": [
              "<div>\n",
              "<style scoped>\n",
              "    .dataframe tbody tr th:only-of-type {\n",
              "        vertical-align: middle;\n",
              "    }\n",
              "\n",
              "    .dataframe tbody tr th {\n",
              "        vertical-align: top;\n",
              "    }\n",
              "\n",
              "    .dataframe thead th {\n",
              "        text-align: right;\n",
              "    }\n",
              "</style>\n",
              "<table border=\"1\" class=\"dataframe\">\n",
              "  <thead>\n",
              "    <tr style=\"text-align: right;\">\n",
              "      <th></th>\n",
              "      <th>const</th>\n",
              "      <th>log_distancia</th>\n",
              "      <th>log_valor_declarado</th>\n",
              "      <th>log_peso</th>\n",
              "    </tr>\n",
              "  </thead>\n",
              "  <tbody>\n",
              "    <tr>\n",
              "      <th>12</th>\n",
              "      <td>1.0</td>\n",
              "      <td>6.075346</td>\n",
              "      <td>9.079525</td>\n",
              "      <td>4.092677</td>\n",
              "    </tr>\n",
              "    <tr>\n",
              "      <th>0</th>\n",
              "      <td>1.0</td>\n",
              "      <td>6.551080</td>\n",
              "      <td>8.861598</td>\n",
              "      <td>5.008967</td>\n",
              "    </tr>\n",
              "    <tr>\n",
              "      <th>1</th>\n",
              "      <td>1.0</td>\n",
              "      <td>7.874739</td>\n",
              "      <td>6.016157</td>\n",
              "      <td>2.029463</td>\n",
              "    </tr>\n",
              "    <tr>\n",
              "      <th>14</th>\n",
              "      <td>1.0</td>\n",
              "      <td>6.922644</td>\n",
              "      <td>9.155250</td>\n",
              "      <td>5.557600</td>\n",
              "    </tr>\n",
              "    <tr>\n",
              "      <th>13</th>\n",
              "      <td>1.0</td>\n",
              "      <td>7.237059</td>\n",
              "      <td>9.212525</td>\n",
              "      <td>4.678049</td>\n",
              "    </tr>\n",
              "    <tr>\n",
              "      <th>7</th>\n",
              "      <td>1.0</td>\n",
              "      <td>6.075346</td>\n",
              "      <td>8.768913</td>\n",
              "      <td>4.785824</td>\n",
              "    </tr>\n",
              "    <tr>\n",
              "      <th>11</th>\n",
              "      <td>1.0</td>\n",
              "      <td>6.922644</td>\n",
              "      <td>9.463776</td>\n",
              "      <td>5.345439</td>\n",
              "    </tr>\n",
              "    <tr>\n",
              "      <th>3</th>\n",
              "      <td>1.0</td>\n",
              "      <td>6.075346</td>\n",
              "      <td>7.378890</td>\n",
              "      <td>3.736002</td>\n",
              "    </tr>\n",
              "    <tr>\n",
              "      <th>6</th>\n",
              "      <td>1.0</td>\n",
              "      <td>6.075346</td>\n",
              "      <td>7.378890</td>\n",
              "      <td>3.736002</td>\n",
              "    </tr>\n",
              "    <tr>\n",
              "      <th>9</th>\n",
              "      <td>1.0</td>\n",
              "      <td>7.919356</td>\n",
              "      <td>11.315715</td>\n",
              "      <td>6.767527</td>\n",
              "    </tr>\n",
              "    <tr>\n",
              "      <th>4</th>\n",
              "      <td>1.0</td>\n",
              "      <td>8.261010</td>\n",
              "      <td>8.854609</td>\n",
              "      <td>4.470953</td>\n",
              "    </tr>\n",
              "    <tr>\n",
              "      <th>15</th>\n",
              "      <td>1.0</td>\n",
              "      <td>6.075346</td>\n",
              "      <td>10.025528</td>\n",
              "      <td>5.884436</td>\n",
              "    </tr>\n",
              "  </tbody>\n",
              "</table>\n",
              "</div>"
            ],
            "text/plain": [
              "    const  log_distancia  log_valor_declarado  log_peso\n",
              "12    1.0       6.075346             9.079525  4.092677\n",
              "0     1.0       6.551080             8.861598  5.008967\n",
              "1     1.0       7.874739             6.016157  2.029463\n",
              "14    1.0       6.922644             9.155250  5.557600\n",
              "13    1.0       7.237059             9.212525  4.678049\n",
              "7     1.0       6.075346             8.768913  4.785824\n",
              "11    1.0       6.922644             9.463776  5.345439\n",
              "3     1.0       6.075346             7.378890  3.736002\n",
              "6     1.0       6.075346             7.378890  3.736002\n",
              "9     1.0       7.919356            11.315715  6.767527\n",
              "4     1.0       8.261010             8.854609  4.470953\n",
              "15    1.0       6.075346            10.025528  5.884436"
            ]
          },
          "metadata": {
            "tags": []
          },
          "execution_count": 34
        }
      ]
    },
    {
      "cell_type": "code",
      "metadata": {
        "id": "em_xx_gu2QoH",
        "colab_type": "code",
        "colab": {}
      },
      "source": [
        "modelo_statsmodels = sm.OLS(y_train, X_train_com_constante, hasconst = True).fit()"
      ],
      "execution_count": 0,
      "outputs": []
    },
    {
      "cell_type": "markdown",
      "metadata": {
        "id": "6au1HB9k2QoK",
        "colab_type": "text"
      },
      "source": [
        "# <font color='red' style='font-size: 30px;'>4.2 Avaliando o Modelo Estimado</font>\n",
        "<hr style='border: 2px solid red;'>"
      ]
    },
    {
      "cell_type": "markdown",
      "metadata": {
        "id": "NXXVOSEk2QoL",
        "colab_type": "text"
      },
      "source": [
        "## Avaliando as estatísticas de teste do modelo"
      ]
    },
    {
      "cell_type": "code",
      "metadata": {
        "id": "vGVXrUzf2QoM",
        "colab_type": "code",
        "outputId": "5b767a65-ede2-4be0-a8c4-e82ef15f9633",
        "colab": {
          "base_uri": "https://localhost:8080/",
          "height": 540
        }
      },
      "source": [
        "print(modelo_statsmodels.summary())"
      ],
      "execution_count": 36,
      "outputs": [
        {
          "output_type": "stream",
          "text": [
            "                            OLS Regression Results                            \n",
            "==============================================================================\n",
            "Dep. Variable:        log_preco_frete   R-squared:                       0.953\n",
            "Model:                            OLS   Adj. R-squared:                  0.935\n",
            "Method:                 Least Squares   F-statistic:                     53.59\n",
            "Date:                Thu, 20 Feb 2020   Prob (F-statistic):           1.22e-05\n",
            "Time:                        22:32:31   Log-Likelihood:            -0.00035504\n",
            "No. Observations:                  12   AIC:                             8.001\n",
            "Df Residuals:                       8   BIC:                             9.940\n",
            "Df Model:                           3                                         \n",
            "Covariance Type:            nonrobust                                         \n",
            "=======================================================================================\n",
            "                          coef    std err          t      P>|t|      [0.025      0.975]\n",
            "---------------------------------------------------------------------------------------\n",
            "const                  -5.0422      1.035     -4.871      0.001      -7.429      -2.655\n",
            "log_distancia           0.8924      0.113      7.894      0.000       0.632       1.153\n",
            "log_valor_declarado     0.7211      0.221      3.264      0.011       0.212       1.231\n",
            "log_peso               -0.1765      0.246     -0.717      0.494      -0.744       0.391\n",
            "==============================================================================\n",
            "Omnibus:                        0.297   Durbin-Watson:                   1.876\n",
            "Prob(Omnibus):                  0.862   Jarque-Bera (JB):                0.122\n",
            "Skew:                          -0.190   Prob(JB):                        0.941\n",
            "Kurtosis:                       2.686   Cond. No.                         150.\n",
            "==============================================================================\n",
            "\n",
            "Warnings:\n",
            "[1] Standard Errors assume that the covariance matrix of the errors is correctly specified.\n"
          ],
          "name": "stdout"
        },
        {
          "output_type": "stream",
          "text": [
            "/usr/local/lib/python3.6/dist-packages/scipy/stats/stats.py:1535: UserWarning: kurtosistest only valid for n>=20 ... continuing anyway, n=12\n",
            "  \"anyway, n=%i\" % int(n))\n"
          ],
          "name": "stderr"
        }
      ]
    },
    {
      "cell_type": "markdown",
      "metadata": {
        "id": "AvP0f48Z2Qo6",
        "colab_type": "text"
      },
      "source": [
        "# <font color='red' style='font-size: 30px;'>5.1 Estimando o Modelo com os Dados de Treino</font>\n",
        "<hr style='border: 2px solid red;'>"
      ]
    },
    {
      "cell_type": "markdown",
      "metadata": {
        "id": "32xk-qGR2Qo6",
        "colab_type": "text"
      },
      "source": [
        "## Importando *LinearRegression* e *metrics* da biblioteca *scikit-learn*\n",
        "\n",
        "https://scikit-learn.org/stable/modules/generated/sklearn.linear_model.LinearRegression.html\n",
        "\n",
        "https://scikit-learn.org/stable/modules/classes.html#regression-metrics"
      ]
    },
    {
      "cell_type": "code",
      "metadata": {
        "id": "W9xVe-qu2Qo7",
        "colab_type": "code",
        "colab": {}
      },
      "source": [
        "from sklearn.linear_model import LinearRegression\n",
        "from sklearn import metrics"
      ],
      "execution_count": 0,
      "outputs": []
    },
    {
      "cell_type": "markdown",
      "metadata": {
        "id": "P0iSqroI2Qo9",
        "colab_type": "text"
      },
      "source": [
        "## Instanciando a classe *LinearRegression()*"
      ]
    },
    {
      "cell_type": "code",
      "metadata": {
        "id": "zO0K0Bit2Qo-",
        "colab_type": "code",
        "colab": {}
      },
      "source": [
        "modelo = LinearRegression()"
      ],
      "execution_count": 0,
      "outputs": []
    },
    {
      "cell_type": "markdown",
      "metadata": {
        "id": "g_O0Nswq2QpB",
        "colab_type": "text"
      },
      "source": [
        "## Utilizando o método *fit()* do objeto \"modelo\" para estimar nosso modelo linear utilizando os dados de TREINO (y_train e X_train)\n",
        "\n",
        "https://scikit-learn.org/stable/modules/generated/sklearn.linear_model.LinearRegression.html#sklearn.linear_model.LinearRegression.fit"
      ]
    },
    {
      "cell_type": "code",
      "metadata": {
        "id": "rfVPGbPp2QpC",
        "colab_type": "code",
        "outputId": "09750876-e475-4176-bd08-5eb960a1a310",
        "colab": {
          "base_uri": "https://localhost:8080/",
          "height": 35
        }
      },
      "source": [
        "modelo.fit(X_train, y_train)"
      ],
      "execution_count": 41,
      "outputs": [
        {
          "output_type": "execute_result",
          "data": {
            "text/plain": [
              "LinearRegression(copy_X=True, fit_intercept=True, n_jobs=None, normalize=False)"
            ]
          },
          "metadata": {
            "tags": []
          },
          "execution_count": 41
        }
      ]
    },
    {
      "cell_type": "markdown",
      "metadata": {
        "id": "zU7mviO-2QpF",
        "colab_type": "text"
      },
      "source": [
        "## Obtendo o coeficiente de determinação (R²) do modelo estimado com os dados de TREINO\n",
        "\n",
        "https://scikit-learn.org/stable/modules/generated/sklearn.linear_model.LinearRegression.html#sklearn.linear_model.LinearRegression.score\n",
        "\n",
        "### Coeficiente de Determinação - R²\n",
        "\n",
        "O coeficiente de determinação (R²) é uma medida resumida que diz quanto a linha de regressão ajusta-se aos dados. É um valor entra 0 e 1.\n",
        "\n",
        "$$R^2(y, \\hat{y}) = 1 - \\frac {\\sum_{i=0}^{n-1}(y_i-\\hat{y}_i)^2}{\\sum_{i=0}^{n-1}(y_i-\\bar{y}_i)^2}$$"
      ]
    },
    {
      "cell_type": "code",
      "metadata": {
        "id": "KIzvOMzW2QpF",
        "colab_type": "code",
        "outputId": "d645f03d-d84f-4cc3-8976-bb0b8f2fab71",
        "colab": {
          "base_uri": "https://localhost:8080/",
          "height": 35
        }
      },
      "source": [
        "print('R² = {}'.format(modelo.score(X_train, y_train).round(3)))"
      ],
      "execution_count": 42,
      "outputs": [
        {
          "output_type": "stream",
          "text": [
            "R² = 0.953\n"
          ],
          "name": "stdout"
        }
      ]
    },
    {
      "cell_type": "markdown",
      "metadata": {
        "id": "kiVAyswn2QpJ",
        "colab_type": "text"
      },
      "source": [
        "## Gerando previsões para os dados de TESTE (X_test) utilizando o método *predict()* do objeto \"modelo\"\n",
        "\n",
        "https://scikit-learn.org/stable/modules/generated/sklearn.linear_model.LinearRegression.html#sklearn.linear_model.LinearRegression.predict"
      ]
    },
    {
      "cell_type": "code",
      "metadata": {
        "id": "az26J88h2QpK",
        "colab_type": "code",
        "colab": {}
      },
      "source": [
        "y_previsto = modelo.predict(X_test)"
      ],
      "execution_count": 0,
      "outputs": []
    },
    {
      "cell_type": "markdown",
      "metadata": {
        "id": "x6By6vIW2QpP",
        "colab_type": "text"
      },
      "source": [
        "## Obtendo o coeficiente de determinação (R²) para as previsões do nosso modelo\n",
        "\n",
        "https://scikit-learn.org/stable/modules/generated/sklearn.metrics.r2_score.html#sklearn.metrics.r2_score"
      ]
    },
    {
      "cell_type": "code",
      "metadata": {
        "id": "8FIdlm3s2QpQ",
        "colab_type": "code",
        "outputId": "808fa311-d82d-4071-8f88-f952083e6402",
        "colab": {
          "base_uri": "https://localhost:8080/",
          "height": 35
        }
      },
      "source": [
        "print('R² = %s' % metrics.r2_score(y_test, y_previsto).round(3))"
      ],
      "execution_count": 44,
      "outputs": [
        {
          "output_type": "stream",
          "text": [
            "R² = 0.965\n"
          ],
          "name": "stdout"
        }
      ]
    },
    {
      "cell_type": "markdown",
      "metadata": {
        "id": "anYztIbh2QpS",
        "colab_type": "text"
      },
      "source": [
        "# <font color='red' style='font-size: 30px;'>5.2 Obtendo Previsões Pontuais</font>\n",
        "<hr style='border: 2px solid red;'>"
      ]
    },
    {
      "cell_type": "markdown",
      "metadata": {
        "id": "SSEGaBnv2QpT",
        "colab_type": "text"
      },
      "source": [
        "## Dados de entrada"
      ]
    },
    {
      "cell_type": "code",
      "metadata": {
        "id": "JiBKUNv_2QpT",
        "colab_type": "code",
        "outputId": "5c530664-fcfa-4851-fa60-0cfc5f32fa4a",
        "colab": {
          "base_uri": "https://localhost:8080/",
          "height": 79
        }
      },
      "source": [
        "entrada = X_test[0:1]\n",
        "entrada"
      ],
      "execution_count": 45,
      "outputs": [
        {
          "output_type": "execute_result",
          "data": {
            "text/html": [
              "<div>\n",
              "<style scoped>\n",
              "    .dataframe tbody tr th:only-of-type {\n",
              "        vertical-align: middle;\n",
              "    }\n",
              "\n",
              "    .dataframe tbody tr th {\n",
              "        vertical-align: top;\n",
              "    }\n",
              "\n",
              "    .dataframe thead th {\n",
              "        text-align: right;\n",
              "    }\n",
              "</style>\n",
              "<table border=\"1\" class=\"dataframe\">\n",
              "  <thead>\n",
              "    <tr style=\"text-align: right;\">\n",
              "      <th></th>\n",
              "      <th>log_distancia</th>\n",
              "      <th>log_valor_declarado</th>\n",
              "      <th>log_peso</th>\n",
              "    </tr>\n",
              "  </thead>\n",
              "  <tbody>\n",
              "    <tr>\n",
              "      <th>8</th>\n",
              "      <td>8.26101</td>\n",
              "      <td>5.796058</td>\n",
              "      <td>1.581038</td>\n",
              "    </tr>\n",
              "  </tbody>\n",
              "</table>\n",
              "</div>"
            ],
            "text/plain": [
              "   log_distancia  log_valor_declarado  log_peso\n",
              "8        8.26101             5.796058  1.581038"
            ]
          },
          "metadata": {
            "tags": []
          },
          "execution_count": 45
        }
      ]
    },
    {
      "cell_type": "markdown",
      "metadata": {
        "id": "nle5TUay2QpV",
        "colab_type": "text"
      },
      "source": [
        "## Gerando previsão pontual"
      ]
    },
    {
      "cell_type": "code",
      "metadata": {
        "id": "I-6UQXyd2QpW",
        "colab_type": "code",
        "outputId": "aa4dcb98-7495-4902-d162-6fae4c2e2b7a",
        "colab": {
          "base_uri": "https://localhost:8080/",
          "height": 35
        }
      },
      "source": [
        "modelo.predict(entrada)[0]"
      ],
      "execution_count": 46,
      "outputs": [
        {
          "output_type": "execute_result",
          "data": {
            "text/plain": [
              "6.23074700827154"
            ]
          },
          "metadata": {
            "tags": []
          },
          "execution_count": 46
        }
      ]
    },
    {
      "cell_type": "markdown",
      "metadata": {
        "id": "YoSB1ZTV2QpY",
        "colab_type": "text"
      },
      "source": [
        "## Invertendo a transformação para obter a estimativa em R$\n",
        "\n",
        "https://docs.scipy.org/doc/numpy-1.15.0/reference/generated/numpy.exp.html"
      ]
    },
    {
      "cell_type": "code",
      "metadata": {
        "id": "TYKIccIj2QpZ",
        "colab_type": "code",
        "outputId": "d354f4b3-8302-44ad-9a93-d8dfed9a9ed6",
        "colab": {
          "base_uri": "https://localhost:8080/",
          "height": 35
        }
      },
      "source": [
        "np.exp(modelo.predict(entrada)[0])"
      ],
      "execution_count": 47,
      "outputs": [
        {
          "output_type": "execute_result",
          "data": {
            "text/plain": [
              "508.13492274636957"
            ]
          },
          "metadata": {
            "tags": []
          },
          "execution_count": 47
        }
      ]
    },
    {
      "cell_type": "markdown",
      "metadata": {
        "id": "-rINIorK2Qpe",
        "colab_type": "text"
      },
      "source": [
        "# <font color='red' style='font-size: 30px;'>5.3 Interpretação dos Coeficientes Estimados</font>\n",
        "<hr style='border: 2px solid red;'>"
      ]
    },
    {
      "cell_type": "markdown",
      "metadata": {
        "id": "c442ak5_2Qpf",
        "colab_type": "text"
      },
      "source": [
        "## Obtendo o intercepto do modelo\n",
        "\n",
        "<p style='font-size: 20px; line-height: 2; margin: 10px 50px; text-align: justify;'>O <b>intercepto</b> representa o efeito médio em $Y$ (Preço do Imóveis) tendo todas as variáveis explicativas excluídas do modelo. No caso do modelo log-linear este coeficiente deve ser transformado com o uso da função exponencial para ser apresentado em R$.</p>"
      ]
    },
    {
      "cell_type": "code",
      "metadata": {
        "id": "35JwRwUc2Qpf",
        "colab_type": "code",
        "outputId": "9e809fb4-8500-4347-a2bf-c4e8e58ad3ef",
        "colab": {
          "base_uri": "https://localhost:8080/",
          "height": 35
        }
      },
      "source": [
        "modelo.intercept_"
      ],
      "execution_count": 54,
      "outputs": [
        {
          "output_type": "execute_result",
          "data": {
            "text/plain": [
              "-5.042196075194769"
            ]
          },
          "metadata": {
            "tags": []
          },
          "execution_count": 54
        }
      ]
    },
    {
      "cell_type": "code",
      "metadata": {
        "colab_type": "code",
        "id": "WdVMkL-Wvt4K",
        "colab": {
          "base_uri": "https://localhost:8080/",
          "height": 35
        },
        "outputId": "ea6570d2-9ef0-488c-cd81-71351563a1e8"
      },
      "source": [
        "np.exp(modelo.intercept_)"
      ],
      "execution_count": 55,
      "outputs": [
        {
          "output_type": "execute_result",
          "data": {
            "text/plain": [
              "0.0064595470793920836"
            ]
          },
          "metadata": {
            "tags": []
          },
          "execution_count": 55
        }
      ]
    },
    {
      "cell_type": "markdown",
      "metadata": {
        "id": "rjubcfyx2Qpn",
        "colab_type": "text"
      },
      "source": [
        "## Obtendo os coeficientes de regressão\n",
        "\n",
        "<p style='font-size: 20px; line-height: 2; margin: 10px 50px; text-align: justify;'>Os <b>coeficientes de regressão</b> $\\beta_2$ e $\\beta_3$ são conhecidos como <b>coeficientes parciais de regressão</b> ou <b>coeficientes parciais angulares</b>. </p>\n",
        "\n",
        "<p style='font-size: 20px; line-height: 2; margin: 10px 50px; text-align: justify;'>Um aspecto interessante do modelo log-linear, que o tornou muito utilizado nos trabalhos aplicados, é que os coeficientes angulares $\\beta_2$ e $\\beta_3$ medem as elasticidades de Y em relação a $X_2$ e $X_3$, isto é, a variação percentual de Y correspondente a uma dada variação percentual (pequena) em $X_2$ e $X_3$.</p>"
      ]
    },
    {
      "cell_type": "code",
      "metadata": {
        "id": "qdU-XY_G2Qpn",
        "colab_type": "code",
        "outputId": "0357d487-e005-452b-83ec-0ecb88c898fd",
        "colab": {
          "base_uri": "https://localhost:8080/",
          "height": 35
        }
      },
      "source": [
        "modelo.coef_"
      ],
      "execution_count": 56,
      "outputs": [
        {
          "output_type": "execute_result",
          "data": {
            "text/plain": [
              "array([ 0.89241708,  0.72113043, -0.17648954])"
            ]
          },
          "metadata": {
            "tags": []
          },
          "execution_count": 56
        }
      ]
    },
    {
      "cell_type": "markdown",
      "metadata": {
        "id": "6f8xsnny2Qpp",
        "colab_type": "text"
      },
      "source": [
        "## Confirmando a ordem das variáveis explicativas no DataFrame"
      ]
    },
    {
      "cell_type": "code",
      "metadata": {
        "id": "wSsXoT0R2Qpq",
        "colab_type": "code",
        "outputId": "bb6802bf-d30d-48bc-e065-7cbbe2c2c40e",
        "colab": {
          "base_uri": "https://localhost:8080/",
          "height": 35
        }
      },
      "source": [
        "estimadores_frete_x.columns"
      ],
      "execution_count": 59,
      "outputs": [
        {
          "output_type": "execute_result",
          "data": {
            "text/plain": [
              "Index(['log_distancia', 'log_valor_declarado', 'log_peso'], dtype='object')"
            ]
          },
          "metadata": {
            "tags": []
          },
          "execution_count": 59
        }
      ]
    },
    {
      "cell_type": "markdown",
      "metadata": {
        "id": "HAhxqe5z2Qpt",
        "colab_type": "text"
      },
      "source": [
        "## Criando uma lista com os nomes das variáveis do modelo"
      ]
    },
    {
      "cell_type": "code",
      "metadata": {
        "id": "p-5r-47V2Qpu",
        "colab_type": "code",
        "colab": {}
      },
      "source": [
        "index = ['Intercepto', 'Distancia (km)', 'Valor Declarado (R$)', 'Peso (Kg)']"
      ],
      "execution_count": 0,
      "outputs": []
    },
    {
      "cell_type": "markdown",
      "metadata": {
        "id": "Ki0rN8wr2Qpy",
        "colab_type": "text"
      },
      "source": [
        "## Criando um DataFrame para armazenar os coeficientes do modelo\n",
        "\n",
        "https://docs.scipy.org/doc/numpy/reference/generated/numpy.append.html?#numpy.append"
      ]
    },
    {
      "cell_type": "code",
      "metadata": {
        "scrolled": true,
        "id": "oJeEKc5r2Qpz",
        "colab_type": "code",
        "outputId": "42e32aa1-eef1-4e2c-e19c-e5d1172de3ca",
        "colab": {
          "base_uri": "https://localhost:8080/",
          "height": 171
        }
      },
      "source": [
        "pd.DataFrame(data=np.append(modelo.intercept_, modelo.coef_), index=index, columns=['Parâmetros'])"
      ],
      "execution_count": 62,
      "outputs": [
        {
          "output_type": "execute_result",
          "data": {
            "text/html": [
              "<div>\n",
              "<style scoped>\n",
              "    .dataframe tbody tr th:only-of-type {\n",
              "        vertical-align: middle;\n",
              "    }\n",
              "\n",
              "    .dataframe tbody tr th {\n",
              "        vertical-align: top;\n",
              "    }\n",
              "\n",
              "    .dataframe thead th {\n",
              "        text-align: right;\n",
              "    }\n",
              "</style>\n",
              "<table border=\"1\" class=\"dataframe\">\n",
              "  <thead>\n",
              "    <tr style=\"text-align: right;\">\n",
              "      <th></th>\n",
              "      <th>Parâmetros</th>\n",
              "    </tr>\n",
              "  </thead>\n",
              "  <tbody>\n",
              "    <tr>\n",
              "      <th>Intercepto</th>\n",
              "      <td>-5.042196</td>\n",
              "    </tr>\n",
              "    <tr>\n",
              "      <th>Distancia (km)</th>\n",
              "      <td>0.892417</td>\n",
              "    </tr>\n",
              "    <tr>\n",
              "      <th>Valor Declarado (R$)</th>\n",
              "      <td>0.721130</td>\n",
              "    </tr>\n",
              "    <tr>\n",
              "      <th>Peso (Kg)</th>\n",
              "      <td>-0.176490</td>\n",
              "    </tr>\n",
              "  </tbody>\n",
              "</table>\n",
              "</div>"
            ],
            "text/plain": [
              "                      Parâmetros\n",
              "Intercepto             -5.042196\n",
              "Distancia (km)          0.892417\n",
              "Valor Declarado (R$)    0.721130\n",
              "Peso (Kg)              -0.176490"
            ]
          },
          "metadata": {
            "tags": []
          },
          "execution_count": 62
        }
      ]
    },
    {
      "cell_type": "code",
      "metadata": {
        "id": "b60cwVwrw2sQ",
        "colab_type": "code",
        "outputId": "282be2f8-bcfc-4f28-f38f-073da20c423b",
        "colab": {
          "base_uri": "https://localhost:8080/",
          "height": 35
        }
      },
      "source": [
        "np.exp(-4.680253)"
      ],
      "execution_count": 63,
      "outputs": [
        {
          "output_type": "execute_result",
          "data": {
            "text/plain": [
              "0.009276666593496467"
            ]
          },
          "metadata": {
            "tags": []
          },
          "execution_count": 63
        }
      ]
    },
    {
      "cell_type": "markdown",
      "metadata": {
        "id": "EJNAtpxK2Qp2",
        "colab_type": "text"
      },
      "source": [
        "## Interpretação dos Coeficientes Estimados\n",
        "\n",
        "<p style='font-size: 20px; line-height: 2; margin: 10px 50px; text-align: justify;'>\n",
        "<b>Intercepto</b> → Excluindo o efeito das variáveis explicativas ($X_2=X_3=0$) o efeito médio no Preço do frete seria de <b>R$ xxx.\n",
        "</p>\n",
        "\n",
        "<p style='font-size: 20px; line-height: 2; margin: 10px 50px; text-align: justify;'>\n",
        "<b>Distância (Km)</b> → Mantendo-se o valor do peso e valor declarado constante, um acréscimo de 1% na distância de entre o destino e a sede da litro de luz gera, em média, um acréscimo de <b> 0,89% </b> no Preço do Frete.\n",
        "</p>\n",
        "\n",
        "<p style='font-size: 20px; line-height: 2; margin: 10px 50px; text-align: justify;'>\n",
        "<b>Valor Declarado (R$)</b> → Mantendo-se o valor da distância e peso constantes, um acréscimo de 1% no valor declarado das soluções gera, em média, um acréscimo de <b>0.72%</b> no Preço do Frete.\n",
        "</p>\n",
        "\n",
        "<p style='font-size: 20px; line-height: 2; margin: 10px 50px; text-align: justify;'>\n",
        "<b>Peso (R$)</b> → Mantendo-se o valor da distância e valor declarado constante, um acréscimo de 1% no peso das soluções gera, em média, um acréscimo de <b>-0.17%</b> no Preço do Frete.\n",
        "</p>"
      ]
    },
    {
      "cell_type": "markdown",
      "metadata": {
        "id": "cuFhAfrS2Qp4",
        "colab_type": "text"
      },
      "source": [
        "# <font color='red' style='font-size: 30px;'>5.4 Análises Gráficas dos Resultados do Modelo</font>\n",
        "<hr style='border: 2px solid red;'>"
      ]
    },
    {
      "cell_type": "markdown",
      "metadata": {
        "id": "xBrRRaKF2Qp4",
        "colab_type": "text"
      },
      "source": [
        "## Gerando as previsões do modelo para os dados de TREINO"
      ]
    },
    {
      "cell_type": "code",
      "metadata": {
        "id": "S5kIN7EB2Qp5",
        "colab_type": "code",
        "colab": {}
      },
      "source": [
        "y_previsto_train = modelo.predict(X_train)"
      ],
      "execution_count": 0,
      "outputs": []
    },
    {
      "cell_type": "markdown",
      "metadata": {
        "id": "hyIAnR342Qp7",
        "colab_type": "text"
      },
      "source": [
        "## Gráfico de dispersão entre valor estimado e valor real\n",
        "\n",
        "https://seaborn.pydata.org/generated/seaborn.scatterplot.html"
      ]
    },
    {
      "cell_type": "code",
      "metadata": {
        "id": "YBjrSFiH2Qp8",
        "colab_type": "code",
        "outputId": "ad7bbe53-00dc-44cd-d7d6-d9ee8d5ae6c5",
        "colab": {
          "base_uri": "https://localhost:8080/",
          "height": 429
        }
      },
      "source": [
        "ax = sns.scatterplot(x=y_previsto_train, y=y_train)\n",
        "ax.figure.set_size_inches(12, 6)\n",
        "ax.set_title('Previsão X Real', fontsize=18)\n",
        "ax.set_xlabel('log do Preço do Frete - Previsão', fontsize=14)\n",
        "ax.set_ylabel('log do Preço do Frete - Real', fontsize=14)\n",
        "ax"
      ],
      "execution_count": 65,
      "outputs": [
        {
          "output_type": "execute_result",
          "data": {
            "text/plain": [
              "<matplotlib.axes._subplots.AxesSubplot at 0x7f42f231af98>"
            ]
          },
          "metadata": {
            "tags": []
          },
          "execution_count": 65
        },
        {
          "output_type": "display_data",
          "data": {
            "image/png": "[encoded data removed]",
            "text/plain": [
              "<Figure size 864x432 with 1 Axes>"
            ]
          },
          "metadata": {
            "tags": []
          }
        }
      ]
    },
    {
      "cell_type": "markdown",
      "metadata": {
        "id": "fqM9E7EA2Qp9",
        "colab_type": "text"
      },
      "source": [
        "## Obtendo os resíduos"
      ]
    },
    {
      "cell_type": "code",
      "metadata": {
        "id": "eIcRrS5i2Qp-",
        "colab_type": "code",
        "colab": {}
      },
      "source": [
        "residuo = y_train - y_previsto_train"
      ],
      "execution_count": 0,
      "outputs": []
    },
    {
      "cell_type": "markdown",
      "metadata": {
        "id": "zC6Kzk0_2QqA",
        "colab_type": "text"
      },
      "source": [
        "## Plotando a distribuição de frequências dos resíduos"
      ]
    },
    {
      "cell_type": "code",
      "metadata": {
        "id": "wzZGVGOl2QqB",
        "colab_type": "code",
        "outputId": "3192f8d7-dec4-4a88-9825-9163fc411d9d",
        "colab": {
          "base_uri": "https://localhost:8080/",
          "height": 431
        }
      },
      "source": [
        "ax = sns.distplot(residuo)\n",
        "ax.figure.set_size_inches(12, 6)\n",
        "ax.set_title('Distribuição de Frequências dos Resíduos', fontsize=18)\n",
        "ax.set_xlabel('log do Preço do Frete', fontsize=14)\n",
        "ax"
      ],
      "execution_count": 67,
      "outputs": [
        {
          "output_type": "execute_result",
          "data": {
            "text/plain": [
              "<matplotlib.axes._subplots.AxesSubplot at 0x7f42f1fef400>"
            ]
          },
          "metadata": {
            "tags": []
          },
          "execution_count": 67
        },
        {
          "output_type": "display_data",
          "data": {
            "image/png": "[encoded data removed]",
            "text/plain": [
              "<Figure size 864x432 with 1 Axes>"
            ]
          },
          "metadata": {
            "tags": []
          }
        }
      ]
    },
    {
      "cell_type": "markdown",
      "metadata": {
        "id": "_DTYgkh72Qpb",
        "colab_type": "text"
      },
      "source": [
        "## Simulador de frete (Produção)"
      ]
    },
    {
      "cell_type": "code",
      "metadata": {
        "id": "TlHyUPxT2Qpb",
        "colab_type": "code",
        "outputId": "6aac9118-cbc6-45bf-ab03-c89c8384cd0f",
        "colab": {
          "base_uri": "https://localhost:8080/",
          "height": 35
        }
      },
      "source": [
        "#cidade = caixa de diálogo para o usuário escolher dentre as opções\n",
        "#cidade = Fazer um dicionário aqui com os dados passados de frete\n",
        "distancia = puxar do dicionário\n",
        "#lampioes = caixa de diálogo para digitar o número de lampiões\n",
        "#postes = caixa de diálogo para digitar o número de postes\n",
        "valor_declarado = postes*(132.4) + lampioes*(269.2)\n",
        "peso = postes*(6) + lampioes*(1.7)\n",
        "entrada = [[np.log(valor_declarado), np.log(distancia), np.log(peso)]]\n",
        "\n",
        "print('R$ {0:.2f}'.format(np.exp(modelo.predict(entrada)[0])))"
      ],
      "execution_count": 53,
      "outputs": [
        {
          "output_type": "stream",
          "text": [
            "R$ 4240.99\n"
          ],
          "name": "stdout"
        }
      ]
    }
  ]
}